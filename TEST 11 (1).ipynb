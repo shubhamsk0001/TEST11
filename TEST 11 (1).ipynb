{
 "cells": [
  {
   "cell_type": "code",
   "execution_count": null,
   "id": "d90afa4f",
   "metadata": {},
   "outputs": [],
   "source": [
    "Create Student Table with ID as Primary Key and NOT NULL , Name as 20 Characters ,Age as Int value both are NOT NULL and\n",
    "Address have  25 charter And Insert Any 5 Records?  "
   ]
  },
  {
   "cell_type": "code",
   "execution_count": null,
   "id": "e77bc171",
   "metadata": {},
   "outputs": [],
   "source": [
    "CREATE TABLE student\n",
    "( Id int Primary Key,\n",
    "  Name char(20) NOT NULL,\n",
    "  Age int NOT NULL,\n",
    "  Address char(25)\n",
    ");\n",
    "insert into student values(1,'abc',25,India)\n",
    "insert into student values(2,'abc',25,India)\n",
    "insert into student values(3,'abc',25,India)\n",
    "insert into student values(4,'abc',25,India)\n",
    "insert into student values(5,'abc',25,India)"
   ]
  },
  {
   "cell_type": "code",
   "execution_count": null,
   "id": "a1ae23c7",
   "metadata": {},
   "outputs": [],
   "source": [
    "Write an SQL query to find the youngest student in the \"student\" table ?"
   ]
  },
  {
   "cell_type": "code",
   "execution_count": null,
   "id": "e5c6a5d0",
   "metadata": {},
   "outputs": [],
   "source": [
    "select name as youngestStudent, dob as dateOfBirth\n",
    "from student\n",
    "where dob = (select max(dob) from yourtable)"
   ]
  },
  {
   "cell_type": "code",
   "execution_count": null,
   "id": "16640c70",
   "metadata": {},
   "outputs": [],
   "source": [
    "Write an SQL query to retrieve the names and addresses of all persons from the \"Person\" table along with their \n",
    "corresponding addresses from the \"Address\" table."
   ]
  },
  {
   "cell_type": "code",
   "execution_count": null,
   "id": "cd154f04",
   "metadata": {},
   "outputs": [],
   "source": [
    "            SELECT names \n",
    "\n",
    "            FROM Person as p\n",
    "            and\n",
    "            addresses\n",
    "            FROM Address as A\n",
    "\n",
    "            WHERE P.PersonId =A.AddressId\n",
    "\n",
    "            "
   ]
  },
  {
   "cell_type": "code",
   "execution_count": null,
   "id": "ff086e21",
   "metadata": {},
   "outputs": [],
   "source": [
    "Write an SQL query to fetch the second highest number from the \"student\" table.? "
   ]
  },
  {
   "cell_type": "code",
   "execution_count": null,
   "id": "c2dd1cd3",
   "metadata": {},
   "outputs": [],
   "source": [
    "SELECT MAX marks \n",
    "FROM student \n",
    "WHERE marks NOT IN (SELECT Max (marks) \n",
    "                          FROM student);"
   ]
  },
  {
   "cell_type": "code",
   "execution_count": null,
   "id": "0f6d8239",
   "metadata": {},
   "outputs": [],
   "source": [
    "SQL Quary to get the nth highest salary from Employee table"
   ]
  },
  {
   "cell_type": "code",
   "execution_count": null,
   "id": "34edcfc5",
   "metadata": {},
   "outputs": [],
   "source": [
    "SELECT * FROM Employee WHERE sal = \n",
    "         (\n",
    "            SELECT MIN(sal) FROM Employee \n",
    "            WHERE  sal IN (\n",
    "            SELECT DISTINCT TOP N\n",
    "            sal FROM Employee \n",
    "            ORDER BY sal DESC\n",
    "))"
   ]
  },
  {
   "cell_type": "code",
   "execution_count": null,
   "id": "d26b4757",
   "metadata": {},
   "outputs": [],
   "source": [
    " Write a SQL query to find the median salary of each company.?"
   ]
  },
  {
   "cell_type": "code",
   "execution_count": null,
   "id": "bae3bd08",
   "metadata": {},
   "outputs": [],
   "source": [
    "WITH cte AS (\n",
    "SELECT \n",
    "\tid,\n",
    "\tcompany,\n",
    "\tSalary,\n",
    "\tROW_NUMBER() OVER(PARTITION BY company ORDER BY Salary) as rn,\n",
    "\tCOUNT(*) OVER(PARTITION BY company ) as rc \n",
    "FROM Employee\n",
    ")\n",
    "\n",
    "SELECT Id, company, salary \n",
    "FROM cte \n",
    "WHERE rn IN ( (rc+1 ) DIV 2 , (rc+2) DIV 2 )"
   ]
  },
  {
   "cell_type": "code",
   "execution_count": null,
   "id": "403b0f9f",
   "metadata": {},
   "outputs": [],
   "source": [
    "17.  Write a SQL to get the cumulative sum of an employee’s salary over a period of 3 month \n",
    "but exclude the most recent month? The result should be display by id ascending and then by month decending ? "
   ]
  },
  {
   "cell_type": "code",
   "execution_count": null,
   "id": "d8ae03a5",
   "metadata": {},
   "outputs": [],
   "source": [
    "select e.Id, e.month, sum(e2.salary) as salary\n",
    "from Employee e\n",
    "join Employee e2\n",
    "on (e.id = e2.id and e.month >= e2.month and (e.month - e2.month <= 2)) where e.month < (select max(month) from Employee \n",
    "where id = e.id) group by 1, 2 \n",
    "order by 1, 2 desc;"
   ]
  },
  {
   "cell_type": "code",
   "execution_count": null,
   "id": "65ef77c3",
   "metadata": {},
   "outputs": [],
   "source": [
    "18.  Write the Query to find the Shortest Distance in Plane."
   ]
  },
  {
   "cell_type": "code",
   "execution_count": null,
   "id": "63f015ab",
   "metadata": {},
   "outputs": [],
   "source": [
    "SELECT \n",
    "MIN(ROUND(SQRT(POWER(p2.x - p1.x, 2) + POWER(p2.y - p1.y, 2)),2)) as shortest\n",
    "FROM point_2d as p1 JOIN point_2d as p2\n",
    "ON p1.x != p2.x OR  p1.y != p2.y"
   ]
  },
  {
   "cell_type": "code",
   "execution_count": null,
   "id": "a2b10c1b",
   "metadata": {},
   "outputs": [],
   "source": [
    "19.  Consider a database with two tables: \"Orders\" and \"Customers.\" Write an SQL query to retrieve the top 5 customers \n",
    "    who have made the most orders, along with the total count of their orders. Display the results in descending order \n",
    "    of the order count and ascending order of customer names."
   ]
  },
  {
   "cell_type": "code",
   "execution_count": null,
   "id": "a31810b7",
   "metadata": {},
   "outputs": [],
   "source": []
  },
  {
   "cell_type": "code",
   "execution_count": null,
   "id": "6b4360c3",
   "metadata": {},
   "outputs": [],
   "source": [
    "20.  Consider a database schema that represents an online bookstore with two tables: books and orders. The books \n",
    "    table has columns: book_id, title, author, price, and stock_quantity. The orders table has columns: order_id, \n",
    "    book_id, quantity, and order_date.Write an SQL query to find the top 3 bestselling products in terms of total \n",
    "    quantity sold, along with their names and total quantities sold. "
   ]
  },
  {
   "cell_type": "code",
   "execution_count": null,
   "id": "693b874c",
   "metadata": {},
   "outputs": [],
   "source": []
  }
 ],
 "metadata": {
  "kernelspec": {
   "display_name": "Python 3 (ipykernel)",
   "language": "python",
   "name": "python3"
  },
  "language_info": {
   "codemirror_mode": {
    "name": "ipython",
    "version": 3
   },
   "file_extension": ".py",
   "mimetype": "text/x-python",
   "name": "python",
   "nbconvert_exporter": "python",
   "pygments_lexer": "ipython3",
   "version": "3.9.12"
  }
 },
 "nbformat": 4,
 "nbformat_minor": 5
}
