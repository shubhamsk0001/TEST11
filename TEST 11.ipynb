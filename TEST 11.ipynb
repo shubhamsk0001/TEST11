{
 "cells": [
  {
   "cell_type": "code",
   "execution_count": null,
   "id": "93009a92",
   "metadata": {},
   "outputs": [],
   "source": [
    "Create Student Table with ID as Primary Key and NOT NULL , Name as 20 Characters ,Age as Int value both are NOT NULL and\n",
    "Address have  25 charter And Insert Any 5 Records?  "
   ]
  },
  {
   "cell_type": "code",
   "execution_count": null,
   "id": "d23ba2f2",
   "metadata": {},
   "outputs": [],
   "source": [
    "CREATE TABLE student\n",
    "( Id int Primary Key,\n",
    "  Name char(20) NOT NULL,\n",
    "  Age int NOT NULL,\n",
    "  Address char(25)\n",
    ");\n",
    "insert into student values(1,'abc',25,India)\n",
    "insert into student values(2,'abc',25,India)\n",
    "insert into student values(3,'abc',25,India)\n",
    "insert into student values(4,'abc',25,India)\n",
    "insert into student values(5,'abc',25,India)"
   ]
  },
  {
   "cell_type": "code",
   "execution_count": null,
   "id": "f2fb5e24",
   "metadata": {},
   "outputs": [],
   "source": [
    "Write an SQL query to find the youngest student in the \"student\" table ?"
   ]
  },
  {
   "cell_type": "code",
   "execution_count": null,
   "id": "665e0091",
   "metadata": {},
   "outputs": [],
   "source": [
    "select name as youngestStudent, dob as dateOfBirth\n",
    "from student\n",
    "where dob = (select max(dob) from yourtable)"
   ]
  },
  {
   "cell_type": "code",
   "execution_count": null,
   "id": "0c265b36",
   "metadata": {},
   "outputs": [],
   "source": [
    "Write an SQL query to retrieve the names and addresses of all persons from the \"Person\" table along with their \n",
    "corresponding addresses from the \"Address\" table."
   ]
  },
  {
   "cell_type": "code",
   "execution_count": null,
   "id": "a685eed5",
   "metadata": {},
   "outputs": [],
   "source": [
    "            SELECT names \n",
    "\n",
    "            FROM Person as p\n",
    "            and\n",
    "            addresses\n",
    "            FROM Address as A\n",
    "\n",
    "            WHERE P.PersonId =A.AddressId\n",
    "\n",
    "            "
   ]
  },
  {
   "cell_type": "code",
   "execution_count": null,
   "id": "a52687c9",
   "metadata": {},
   "outputs": [],
   "source": [
    "Write an SQL query to fetch the second highest number from the \"student\" table.? "
   ]
  },
  {
   "cell_type": "code",
   "execution_count": null,
   "id": "a1bc152e",
   "metadata": {},
   "outputs": [],
   "source": [
    "SELECT MAX marks \n",
    "FROM student \n",
    "WHERE marks NOT IN (SELECT Max (marks) \n",
    "                          FROM student);"
   ]
  },
  {
   "cell_type": "code",
   "execution_count": null,
   "id": "d5b67ec4",
   "metadata": {},
   "outputs": [],
   "source": [
    "SQL Quary to get the nth highest salary from Employee table"
   ]
  },
  {
   "cell_type": "code",
   "execution_count": null,
   "id": "18d55d20",
   "metadata": {},
   "outputs": [],
   "source": [
    "SELECT * FROM Employee WHERE sal = \n",
    "         (\n",
    "            SELECT MIN(sal) FROM Employee \n",
    "            WHERE  sal IN (\n",
    "            SELECT DISTINCT TOP N\n",
    "            sal FROM Employee \n",
    "            ORDER BY sal DESC\n",
    "))"
   ]
  },
  {
   "cell_type": "code",
   "execution_count": null,
   "id": "0bc08f3c",
   "metadata": {},
   "outputs": [],
   "source": [
    " Write a SQL query to find the median salary of each company.?"
   ]
  },
  {
   "cell_type": "code",
   "execution_count": null,
   "id": "f80a6211",
   "metadata": {},
   "outputs": [],
   "source": [
    "WITH cte AS (\n",
    "SELECT \n",
    "\tid,\n",
    "\tcompany,\n",
    "\tSalary,\n",
    "\tROW_NUMBER() OVER(PARTITION BY company ORDER BY Salary) as rn,\n",
    "\tCOUNT(*) OVER(PARTITION BY company ) as rc \n",
    "FROM Employee\n",
    ")\n",
    "\n",
    "SELECT Id, company, salary \n",
    "FROM cte \n",
    "WHERE rn IN ( (rc+1 ) DIV 2 , (rc+2) DIV 2 )"
   ]
  }
 ],
 "metadata": {
  "kernelspec": {
   "display_name": "Python 3 (ipykernel)",
   "language": "python",
   "name": "python3"
  },
  "language_info": {
   "codemirror_mode": {
    "name": "ipython",
    "version": 3
   },
   "file_extension": ".py",
   "mimetype": "text/x-python",
   "name": "python",
   "nbconvert_exporter": "python",
   "pygments_lexer": "ipython3",
   "version": "3.9.12"
  }
 },
 "nbformat": 4,
 "nbformat_minor": 5
}
